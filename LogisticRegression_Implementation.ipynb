{
  "nbformat": 4,
  "nbformat_minor": 0,
  "metadata": {
    "colab": {
      "provenance": [],
      "include_colab_link": true
    },
    "kernelspec": {
      "name": "python3",
      "display_name": "Python 3"
    },
    "language_info": {
      "name": "python"
    }
  },
  "cells": [
    {
      "cell_type": "markdown",
      "metadata": {
        "id": "view-in-github",
        "colab_type": "text"
      },
      "source": [
        "<a href=\"https://colab.research.google.com/github/omkarnitsureiitb/ML-Model-Implementations/blob/main/LogisticRegression_Implementation.ipynb\" target=\"_parent\"><img src=\"https://colab.research.google.com/assets/colab-badge.svg\" alt=\"Open In Colab\"/></a>"
      ]
    },
    {
      "cell_type": "markdown",
      "source": [
        "# Logistic Regression\n",
        "## Author - Omkar Nitsure\n",
        "### Email - omkarnitsure2003@gmail.com\n",
        "### github - https://github.com/omkarnitsureiitb"
      ],
      "metadata": {
        "id": "-aTPRhely8SU"
      }
    },
    {
      "cell_type": "code",
      "source": [
        "# importing libraries\n",
        "import numpy as np\n",
        "import matplotlib.pyplot as plt"
      ],
      "metadata": {
        "id": "OueM6q1Z2bBR"
      },
      "execution_count": 38,
      "outputs": []
    },
    {
      "cell_type": "code",
      "source": [
        "# mounting Google Drive\n",
        "from google.colab import drive\n",
        "drive.mount('/content/drive')"
      ],
      "metadata": {
        "colab": {
          "base_uri": "https://localhost:8080/"
        },
        "id": "6u0prwAOoaNP",
        "outputId": "aa8e8fbc-86c7-4d1c-9cde-dd811f716545"
      },
      "execution_count": 39,
      "outputs": [
        {
          "output_type": "stream",
          "name": "stdout",
          "text": [
            "Drive already mounted at /content/drive; to attempt to forcibly remount, call drive.mount(\"/content/drive\", force_remount=True).\n"
          ]
        }
      ]
    },
    {
      "cell_type": "markdown",
      "source": [
        "## Generating and plotting the Data"
      ],
      "metadata": {
        "id": "VsX-pzm72y4H"
      }
    },
    {
      "cell_type": "code",
      "source": [
        "x1_1 = np.random.randint(15, 60, 50)\n",
        "x2_1 = np.random.randint(30, 70, 50)\n",
        "x1_0 = np.random.randint(40, 90, 50)\n",
        "x2_0 = np.random.randint(5, 45, 50)\n",
        "\n",
        "# we have to make a single vector for each of x1 and x2 by combining both the classes for training\n",
        "x1 = np.hstack((x1_0, x1_1))\n",
        "x2 = np.hstack((x2_0, x2_1))\n",
        "# dividing both x1 and x2 by large number like 1000 to make sure that their sigmoid values don't saturate to either 0 or 1\n",
        "x1 = x1/1000\n",
        "x2 = x2/1000\n",
        "\n",
        "# creating data\n",
        "y0 = np.zeros(50)\n",
        "y1 = np.ones(50)\n",
        "data = np.hstack((y0, y1))\n",
        "\n",
        "# plotting data\n",
        "plt.scatter(x1_1, x2_1, color=\"blue\")\n",
        "plt.scatter(x1_0, x2_0, color=\"red\")\n",
        "plt.xlabel('x1')\n",
        "plt.ylabel('x2')\n",
        "plt.title('Data to be used for training')\n",
        "plt.savefig(\"/content/drive/MyDrive/Plots/data.jpg\")\n",
        "plt.show()"
      ],
      "metadata": {
        "colab": {
          "base_uri": "https://localhost:8080/",
          "height": 472
        },
        "id": "rgXSNASpOC_S",
        "outputId": "6ed634e1-513f-4984-e4cf-1521877f1321"
      },
      "execution_count": 40,
      "outputs": [
        {
          "output_type": "display_data",
          "data": {
            "text/plain": [
              "<Figure size 640x480 with 1 Axes>"
            ],
            "image/png": "[encoded data removed]"
          },
          "metadata": {}
        }
      ]
    },
    {
      "cell_type": "markdown",
      "source": [
        "## Sigmoid function"
      ],
      "metadata": {
        "id": "yWRAbGW03J8a"
      }
    },
    {
      "cell_type": "code",
      "source": [
        "# sigmoid function\n",
        "def sigmoid(x):\n",
        "  value = 1/(1 + np.exp(-x))\n",
        "  return value"
      ],
      "metadata": {
        "id": "dYW3mqMTN5vb"
      },
      "execution_count": 41,
      "outputs": []
    },
    {
      "cell_type": "markdown",
      "source": [
        "## Cost function"
      ],
      "metadata": {
        "id": "4Yv8djjV3WlG"
      }
    },
    {
      "cell_type": "code",
      "source": [
        "# function to compute cost of Logistic Regression\n",
        "def cost(model, data):\n",
        "  cost = np.sum((-1)*(data*np.log(model) + (1 - data)*np.log(1 - model)))\n",
        "  return np.round(cost, 2)"
      ],
      "metadata": {
        "id": "7lk7TRZwOKgi"
      },
      "execution_count": 42,
      "outputs": []
    },
    {
      "cell_type": "markdown",
      "source": [
        "## Derivatives"
      ],
      "metadata": {
        "id": "CP9gLa4a3ZzF"
      }
    },
    {
      "cell_type": "code",
      "source": [
        "# function to compute the derivative of cost with respect to theta1\n",
        "def derivative_theta1(model, data, x1):\n",
        "  dfdx = np.sum(x1*(model - data))\n",
        "  return dfdx"
      ],
      "metadata": {
        "id": "hsbfJzQqOOKE"
      },
      "execution_count": 43,
      "outputs": []
    },
    {
      "cell_type": "code",
      "source": [
        "# function to compute the derivative of cost with respect to theta2\n",
        "def derivative_theta2(model, data, x2):\n",
        "  dfdx = np.sum(x2*(model - data))\n",
        "  return dfdx"
      ],
      "metadata": {
        "id": "h2teFH4ROSHO"
      },
      "execution_count": 44,
      "outputs": []
    },
    {
      "cell_type": "code",
      "source": [
        "# function to compute the derivative of cost with respect to theta0\n",
        "def derivative_theta0(model, data):\n",
        "  dfdx = np.sum((model - data))\n",
        "  return dfdx"
      ],
      "metadata": {
        "id": "DqYzvEYqOU8w"
      },
      "execution_count": 45,
      "outputs": []
    },
    {
      "cell_type": "markdown",
      "source": [
        "## Initialization"
      ],
      "metadata": {
        "id": "LOUQH7od3c5x"
      }
    },
    {
      "cell_type": "code",
      "source": [
        "# random initialization of parameters and initial cost computation\n",
        "theta1 = 1\n",
        "theta2 = 2\n",
        "theta0 = 3\n",
        "theta0_iterations = []\n",
        "theta1_iterations = []\n",
        "theta2_iterations = []\n",
        "model = sigmoid(theta1*x1 + theta2*x2 + theta0)\n",
        "print(\"cost at iteration 0 : \", cost(model, data))"
      ],
      "metadata": {
        "colab": {
          "base_uri": "https://localhost:8080/"
        },
        "id": "XDBKAReGOYJ4",
        "outputId": "5cb08529-d230-46b3-9671-78f63b23462e"
      },
      "execution_count": 46,
      "outputs": [
        {
          "output_type": "stream",
          "name": "stdout",
          "text": [
            "cost at iteration 0 :  159.59\n"
          ]
        }
      ]
    },
    {
      "cell_type": "markdown",
      "source": [
        "## Learning rate"
      ],
      "metadata": {
        "id": "FQBjjPdy3g1i"
      }
    },
    {
      "cell_type": "code",
      "source": [
        "# learning rate, alpha\n",
        "alpha = 0.08"
      ],
      "metadata": {
        "id": "Kw3gUKfxOb-8"
      },
      "execution_count": 47,
      "outputs": []
    },
    {
      "cell_type": "markdown",
      "source": [
        "## Gradient Descent"
      ],
      "metadata": {
        "id": "Dz-bPolf3jqm"
      }
    },
    {
      "cell_type": "code",
      "source": [
        "# main training loop using Gradient Descent\n",
        "# cost is printed at every 100 iterations\n",
        "iterations = 0\n",
        "cost_i = 100\n",
        "\n",
        "# main training loop\n",
        "while cost_i > 25 or iterations <= 2000:\n",
        "  iterations += 1\n",
        "\n",
        "  # updating parameters\n",
        "  theta1 = theta1 - alpha*derivative_theta1(model, data, x1)\n",
        "  theta2 = theta2 - alpha*derivative_theta2(model, data, x2)\n",
        "  theta0 = theta0 - alpha*derivative_theta0(model, data)\n",
        "\n",
        "  model = sigmoid(theta1*x1 + theta2*x2 + theta0)\n",
        "\n",
        "  # printing cost conditionally\n",
        "  if(iterations % 100 == 0):\n",
        "    cost_i  = cost(model, data)\n",
        "    print(\"cost at iteration\", iterations + 1,\" : \", cost_i)"
      ],
      "metadata": {
        "colab": {
          "base_uri": "https://localhost:8080/"
        },
        "id": "DmTnMYjEOeeA",
        "outputId": "fe0340be-1146-4f04-9842-7134b804bd2f"
      },
      "execution_count": 48,
      "outputs": [
        {
          "output_type": "stream",
          "name": "stdout",
          "text": [
            "cost at iteration 101  :  62.84\n",
            "cost at iteration 201  :  57.5\n",
            "cost at iteration 301  :  53.34\n",
            "cost at iteration 401  :  49.87\n",
            "cost at iteration 501  :  46.95\n",
            "cost at iteration 601  :  44.47\n",
            "cost at iteration 701  :  42.34\n",
            "cost at iteration 801  :  40.5\n",
            "cost at iteration 901  :  38.89\n",
            "cost at iteration 1001  :  37.47\n",
            "cost at iteration 1101  :  36.21\n",
            "cost at iteration 1201  :  35.09\n",
            "cost at iteration 1301  :  34.08\n",
            "cost at iteration 1401  :  33.17\n",
            "cost at iteration 1501  :  32.34\n",
            "cost at iteration 1601  :  31.59\n",
            "cost at iteration 1701  :  30.9\n",
            "cost at iteration 1801  :  30.26\n",
            "cost at iteration 1901  :  29.68\n",
            "cost at iteration 2001  :  29.14\n",
            "cost at iteration 2101  :  28.64\n",
            "cost at iteration 2201  :  28.17\n",
            "cost at iteration 2301  :  27.73\n",
            "cost at iteration 2401  :  27.32\n",
            "cost at iteration 2501  :  26.94\n",
            "cost at iteration 2601  :  26.58\n",
            "cost at iteration 2701  :  26.24\n",
            "cost at iteration 2801  :  25.92\n",
            "cost at iteration 2901  :  25.62\n",
            "cost at iteration 3001  :  25.33\n",
            "cost at iteration 3101  :  25.06\n",
            "cost at iteration 3201  :  24.8\n"
          ]
        }
      ]
    },
    {
      "cell_type": "markdown",
      "source": [
        "## Rescaling and printing the final parameters"
      ],
      "metadata": {
        "id": "AJRPCu-V3vFU"
      }
    },
    {
      "cell_type": "code",
      "source": [
        "# updating the values of theta1 and theta0 for plotting\n",
        "theta1 = (-1000)*theta1/theta2\n",
        "theta0 = (-1000)*theta0/theta2\n",
        "\n",
        "#printing the final slope and constant values of the line\n",
        "print(\"Equation of separating line is y = mx + c\")\n",
        "print(\"m =\", np.round(theta1/1000, 2))\n",
        "print(\"c =\", np.round(theta0/1000, 2))"
      ],
      "metadata": {
        "colab": {
          "base_uri": "https://localhost:8080/"
        },
        "id": "fBBOKogCOiwb",
        "outputId": "4dec5516-b349-4d8a-d680-8213ad27dfd8"
      },
      "execution_count": 49,
      "outputs": [
        {
          "output_type": "stream",
          "name": "stdout",
          "text": [
            "Equation of separating line is y = mx + c\n",
            "m = 0.89\n",
            "c = -0.01\n"
          ]
        }
      ]
    },
    {
      "cell_type": "markdown",
      "source": [
        "## Plotting the final line"
      ],
      "metadata": {
        "id": "yArwsFkF31gy"
      }
    },
    {
      "cell_type": "code",
      "source": [
        "# equation of line\n",
        "y = theta1*x1 + theta0\n",
        "\n",
        "#plotting the data\n",
        "plt.scatter(x1_1, x2_1, color=\"blue\")\n",
        "plt.scatter(x1_0, x2_0, color=\"red\")\n",
        "\n",
        "# plotting the final obtained line after training along with data\n",
        "plt.plot(1000*x1, y, 'g-', label=\"final separator\")\n",
        "plt.xlabel('x1')\n",
        "plt.ylabel('x2')\n",
        "plt.title('final output line of Logistic Regression')\n",
        "plt.legend()\n",
        "plt.xlim((15, 90))\n",
        "plt.ylim((5, 80))\n",
        "plt.savefig(\"/content/drive/MyDrive/Plots/logisticRegression_separator.jpg\")\n",
        "plt.show()"
      ],
      "metadata": {
        "colab": {
          "base_uri": "https://localhost:8080/",
          "height": 472
        },
        "id": "SCJeg2NrOmEk",
        "outputId": "e54f2f85-8190-417c-d082-8a546088c1ad"
      },
      "execution_count": 50,
      "outputs": [
        {
          "output_type": "display_data",
          "data": {
            "text/plain": [
              "<Figure size 640x480 with 1 Axes>"
            ],
            "image/png": "[encoded data removed]"
          },
          "metadata": {}
        }
      ]
    }
  ]
}